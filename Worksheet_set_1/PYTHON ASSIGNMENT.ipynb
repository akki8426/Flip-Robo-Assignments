{
 "cells": [
  {
   "cell_type": "markdown",
   "id": "331d3021",
   "metadata": {},
   "source": [
    "# PYTHON PROGRAMME ASSIGNMENT"
   ]
  },
  {
   "cell_type": "code",
   "execution_count": 1,
   "id": "bfdcb9bc",
   "metadata": {},
   "outputs": [],
   "source": [
    "#Q11. Write a python program to find the factorial of a number"
   ]
  },
  {
   "cell_type": "code",
   "execution_count": 3,
   "id": "5c023e45",
   "metadata": {},
   "outputs": [
    {
     "name": "stdout",
     "output_type": "stream",
     "text": [
      "enter a number : 5\n",
      "the factorial of 5 is 120\n"
     ]
    }
   ],
   "source": [
    "number = int(input('enter a number : '))\n",
    "\n",
    "f=1\n",
    "a=1\n",
    "\n",
    "while a<=number:\n",
    "    f=f*a\n",
    "    a=a+1\n",
    "print('the factorial of',number,'is',f)"
   ]
  },
  {
   "cell_type": "code",
   "execution_count": null,
   "id": "c114740c",
   "metadata": {},
   "outputs": [],
   "source": []
  },
  {
   "cell_type": "code",
   "execution_count": 4,
   "id": "a9d552f4",
   "metadata": {},
   "outputs": [],
   "source": [
    "#Q12. Write a python program to find whether a number is prime or composite."
   ]
  },
  {
   "cell_type": "code",
   "execution_count": 7,
   "id": "7be70438",
   "metadata": {},
   "outputs": [
    {
     "name": "stdout",
     "output_type": "stream",
     "text": [
      "enter a number : 6\n",
      "It is not a prime Number\n"
     ]
    }
   ],
   "source": [
    "number = int(input('enter a number : '))\n",
    "\n",
    "if number==1:\n",
    "    print('It is not a Prime Number')\n",
    "    \n",
    "if number>1:\n",
    "    for i in range(2,number):\n",
    "        if number % i == 0:\n",
    "            print('It is not a prime Number')\n",
    "            break\n",
    "    else:\n",
    "        print('It is a Prime Numnber')"
   ]
  },
  {
   "cell_type": "code",
   "execution_count": null,
   "id": "6065b989",
   "metadata": {},
   "outputs": [],
   "source": []
  },
  {
   "cell_type": "code",
   "execution_count": 8,
   "id": "520e48d3",
   "metadata": {},
   "outputs": [],
   "source": [
    "#Q13. Write a python program to check whether a given string is palindrome or not."
   ]
  },
  {
   "cell_type": "code",
   "execution_count": null,
   "id": "3caa0c6e",
   "metadata": {},
   "outputs": [],
   "source": []
  },
  {
   "cell_type": "code",
   "execution_count": 9,
   "id": "ccda6c2d",
   "metadata": {},
   "outputs": [],
   "source": [
    "#Q14. Write a Python program to get the third side of right-angled triangle from two given sides"
   ]
  },
  {
   "cell_type": "code",
   "execution_count": 11,
   "id": "5a04db78",
   "metadata": {},
   "outputs": [
    {
     "name": "stdout",
     "output_type": "stream",
     "text": [
      "Enter the First Number : 3\n",
      "Enter The Second Number : 4\n",
      "The Third Side Of Triangle is :  5.0\n"
     ]
    }
   ],
   "source": [
    "import math\n",
    "\n",
    "AB = int(input('Enter the First Number : '))\n",
    "BC = int(input('Enter The Second Number : '))\n",
    "\n",
    "AC= (AB**2)+(BC**2)\n",
    "new_AC = math.sqrt(AC)\n",
    "print('The Third Side Of Triangle is : ',new_AC)"
   ]
  },
  {
   "cell_type": "code",
   "execution_count": null,
   "id": "2bae0d3b",
   "metadata": {},
   "outputs": [],
   "source": []
  },
  {
   "cell_type": "code",
   "execution_count": 12,
   "id": "43eafa6b",
   "metadata": {},
   "outputs": [],
   "source": [
    "#Q15. Write a python program to print the frequency of each of the characters present in a given string"
   ]
  },
  {
   "cell_type": "code",
   "execution_count": 13,
   "id": "889cf9bf",
   "metadata": {},
   "outputs": [
    {
     "name": "stdout",
     "output_type": "stream",
     "text": [
      "Enter The StringLTVLTVBGMLTV\n",
      "{'L': 3, 'T': 3, 'V': 3, 'B': 1, 'G': 1, 'M': 1}\n"
     ]
    }
   ],
   "source": [
    "string = input('Enter The String')\n",
    "\n",
    "d1 = dict()\n",
    "for i in string:\n",
    "    if i in d1:\n",
    "        d1[i]=d1[i]+1\n",
    "    else:\n",
    "        d1[i]=1\n",
    "print(d1)"
   ]
  },
  {
   "cell_type": "code",
   "execution_count": null,
   "id": "88f5d35a",
   "metadata": {},
   "outputs": [],
   "source": []
  }
 ],
 "metadata": {
  "kernelspec": {
   "display_name": "Python 3 (ipykernel)",
   "language": "python",
   "name": "python3"
  },
  "language_info": {
   "codemirror_mode": {
    "name": "ipython",
    "version": 3
   },
   "file_extension": ".py",
   "mimetype": "text/x-python",
   "name": "python",
   "nbconvert_exporter": "python",
   "pygments_lexer": "ipython3",
   "version": "3.11.4"
  }
 },
 "nbformat": 4,
 "nbformat_minor": 5
}
